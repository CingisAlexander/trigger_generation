{
 "cells": [
  {
   "cell_type": "markdown",
   "metadata": {
    "colab_type": "text",
    "id": "8AUKsBTs01bG"
   },
   "source": [
    "1. Load the model\n",
    "2. Load the data\n",
    "3. Perform some visualization\n",
    "4. Understand the mask and the pattern variables\n",
    "5. Understand the two critical parts"
   ]
  },
  {
   "cell_type": "markdown",
   "metadata": {
    "colab_type": "text",
    "id": "3mQt105sJwLn"
   },
   "source": [
    "the gtsrb_dataset_int.h5 spits the following\n",
    "\n",
    "data['Y_test'].shape:  (12630, 43)\n",
    "\n",
    "data['X_test'].shape:  (12630, 32, 32, 3)\n",
    "\n",
    "So **data** is a Dictionary holding a numpy arrays.\n",
    "\n",
    "#### Possible vulnerabilities:\n",
    "I have to downgrade tensorflow to version 2.0.0 from 2.2.0. \n"
   ]
  },
  {
   "cell_type": "code",
   "execution_count": 1,
   "metadata": {
    "colab": {
     "base_uri": "https://localhost:8080/",
     "height": 129
    },
    "colab_type": "code",
    "id": "xEmUWW290wKT",
    "outputId": "bce9492a-13ab-456a-c2cd-7bf2607addd3"
   },
   "outputs": [
    {
     "name": "stdout",
     "output_type": "stream",
     "text": [
      "Go to this URL in a browser: https://accounts.google.com/o/oauth2/auth?client_id=947318989803-6bn6qk8qdgf4n4g3pfee6491hc0brc4i.apps.googleusercontent.com&redirect_uri=urn%3aietf%3awg%3aoauth%3a2.0%3aoob&response_type=code&scope=email%20https%3a%2f%2fwww.googleapis.com%2fauth%2fdocs.test%20https%3a%2f%2fwww.googleapis.com%2fauth%2fdrive%20https%3a%2f%2fwww.googleapis.com%2fauth%2fdrive.photos.readonly%20https%3a%2f%2fwww.googleapis.com%2fauth%2fpeopleapi.readonly\n",
      "\n",
      "Enter your authorization code:\n",
      "··········\n",
      "Mounted at /content/gdrive\n"
     ]
    }
   ],
   "source": [
    "from google.colab import drive\n",
    "drive.mount('/content/gdrive')"
   ]
  },
  {
   "cell_type": "code",
   "execution_count": 2,
   "metadata": {
    "colab": {
     "base_uri": "https://localhost:8080/",
     "height": 1000
    },
    "colab_type": "code",
    "id": "74etZD5TRewf",
    "outputId": "72e73a07-a325-48d7-e628-12b4988d6b08"
   },
   "outputs": [
    {
     "name": "stdout",
     "output_type": "stream",
     "text": [
      "Collecting tensorflow-gpu==2.0.0\n",
      "\u001b[?25l  Downloading https://files.pythonhosted.org/packages/25/44/47f0722aea081697143fbcf5d2aa60d1aee4aaacb5869aee2b568974777b/tensorflow_gpu-2.0.0-cp36-cp36m-manylinux2010_x86_64.whl (380.8MB)\n",
      "\u001b[K     |████████████████████████████████| 380.8MB 43kB/s \n",
      "\u001b[?25hRequirement already satisfied: wrapt>=1.11.1 in /usr/local/lib/python3.6/dist-packages (from tensorflow-gpu==2.0.0) (1.12.1)\n",
      "Requirement already satisfied: numpy<2.0,>=1.16.0 in /usr/local/lib/python3.6/dist-packages (from tensorflow-gpu==2.0.0) (1.18.2)\n",
      "Requirement already satisfied: astor>=0.6.0 in /usr/local/lib/python3.6/dist-packages (from tensorflow-gpu==2.0.0) (0.8.1)\n",
      "Collecting gast==0.2.2\n",
      "  Downloading https://files.pythonhosted.org/packages/4e/35/11749bf99b2d4e3cceb4d55ca22590b0d7c2c62b9de38ac4a4a7f4687421/gast-0.2.2.tar.gz\n",
      "Requirement already satisfied: six>=1.10.0 in /usr/local/lib/python3.6/dist-packages (from tensorflow-gpu==2.0.0) (1.12.0)\n",
      "Requirement already satisfied: grpcio>=1.8.6 in /usr/local/lib/python3.6/dist-packages (from tensorflow-gpu==2.0.0) (1.28.1)\n",
      "Requirement already satisfied: protobuf>=3.6.1 in /usr/local/lib/python3.6/dist-packages (from tensorflow-gpu==2.0.0) (3.10.0)\n",
      "Collecting tensorboard<2.1.0,>=2.0.0\n",
      "\u001b[?25l  Downloading https://files.pythonhosted.org/packages/76/54/99b9d5d52d5cb732f099baaaf7740403e83fe6b0cedde940fabd2b13d75a/tensorboard-2.0.2-py3-none-any.whl (3.8MB)\n",
      "\u001b[K     |████████████████████████████████| 3.8MB 48.2MB/s \n",
      "\u001b[?25hRequirement already satisfied: keras-applications>=1.0.8 in /usr/local/lib/python3.6/dist-packages (from tensorflow-gpu==2.0.0) (1.0.8)\n",
      "Requirement already satisfied: termcolor>=1.1.0 in /usr/local/lib/python3.6/dist-packages (from tensorflow-gpu==2.0.0) (1.1.0)\n",
      "Requirement already satisfied: absl-py>=0.7.0 in /usr/local/lib/python3.6/dist-packages (from tensorflow-gpu==2.0.0) (0.9.0)\n",
      "Requirement already satisfied: keras-preprocessing>=1.0.5 in /usr/local/lib/python3.6/dist-packages (from tensorflow-gpu==2.0.0) (1.1.0)\n",
      "Requirement already satisfied: wheel>=0.26 in /usr/local/lib/python3.6/dist-packages (from tensorflow-gpu==2.0.0) (0.34.2)\n",
      "Requirement already satisfied: google-pasta>=0.1.6 in /usr/local/lib/python3.6/dist-packages (from tensorflow-gpu==2.0.0) (0.2.0)\n",
      "Requirement already satisfied: opt-einsum>=2.3.2 in /usr/local/lib/python3.6/dist-packages (from tensorflow-gpu==2.0.0) (3.2.1)\n",
      "Collecting tensorflow-estimator<2.1.0,>=2.0.0\n",
      "\u001b[?25l  Downloading https://files.pythonhosted.org/packages/fc/08/8b927337b7019c374719145d1dceba21a8bb909b93b1ad6f8fb7d22c1ca1/tensorflow_estimator-2.0.1-py2.py3-none-any.whl (449kB)\n",
      "\u001b[K     |████████████████████████████████| 450kB 54.4MB/s \n",
      "\u001b[?25hRequirement already satisfied: setuptools in /usr/local/lib/python3.6/dist-packages (from protobuf>=3.6.1->tensorflow-gpu==2.0.0) (46.1.3)\n",
      "Requirement already satisfied: requests<3,>=2.21.0 in /usr/local/lib/python3.6/dist-packages (from tensorboard<2.1.0,>=2.0.0->tensorflow-gpu==2.0.0) (2.21.0)\n",
      "Requirement already satisfied: markdown>=2.6.8 in /usr/local/lib/python3.6/dist-packages (from tensorboard<2.1.0,>=2.0.0->tensorflow-gpu==2.0.0) (3.2.1)\n",
      "Requirement already satisfied: google-auth<2,>=1.6.3 in /usr/local/lib/python3.6/dist-packages (from tensorboard<2.1.0,>=2.0.0->tensorflow-gpu==2.0.0) (1.7.2)\n",
      "Requirement already satisfied: werkzeug>=0.11.15 in /usr/local/lib/python3.6/dist-packages (from tensorboard<2.1.0,>=2.0.0->tensorflow-gpu==2.0.0) (1.0.1)\n",
      "Requirement already satisfied: google-auth-oauthlib<0.5,>=0.4.1 in /usr/local/lib/python3.6/dist-packages (from tensorboard<2.1.0,>=2.0.0->tensorflow-gpu==2.0.0) (0.4.1)\n",
      "Requirement already satisfied: h5py in /usr/local/lib/python3.6/dist-packages (from keras-applications>=1.0.8->tensorflow-gpu==2.0.0) (2.10.0)\n",
      "Requirement already satisfied: certifi>=2017.4.17 in /usr/local/lib/python3.6/dist-packages (from requests<3,>=2.21.0->tensorboard<2.1.0,>=2.0.0->tensorflow-gpu==2.0.0) (2020.4.5.1)\n",
      "Requirement already satisfied: idna<2.9,>=2.5 in /usr/local/lib/python3.6/dist-packages (from requests<3,>=2.21.0->tensorboard<2.1.0,>=2.0.0->tensorflow-gpu==2.0.0) (2.8)\n",
      "Requirement already satisfied: urllib3<1.25,>=1.21.1 in /usr/local/lib/python3.6/dist-packages (from requests<3,>=2.21.0->tensorboard<2.1.0,>=2.0.0->tensorflow-gpu==2.0.0) (1.24.3)\n",
      "Requirement already satisfied: chardet<3.1.0,>=3.0.2 in /usr/local/lib/python3.6/dist-packages (from requests<3,>=2.21.0->tensorboard<2.1.0,>=2.0.0->tensorflow-gpu==2.0.0) (3.0.4)\n",
      "Requirement already satisfied: cachetools<3.2,>=2.0.0 in /usr/local/lib/python3.6/dist-packages (from google-auth<2,>=1.6.3->tensorboard<2.1.0,>=2.0.0->tensorflow-gpu==2.0.0) (3.1.1)\n",
      "Requirement already satisfied: rsa<4.1,>=3.1.4 in /usr/local/lib/python3.6/dist-packages (from google-auth<2,>=1.6.3->tensorboard<2.1.0,>=2.0.0->tensorflow-gpu==2.0.0) (4.0)\n",
      "Requirement already satisfied: pyasn1-modules>=0.2.1 in /usr/local/lib/python3.6/dist-packages (from google-auth<2,>=1.6.3->tensorboard<2.1.0,>=2.0.0->tensorflow-gpu==2.0.0) (0.2.8)\n",
      "Requirement already satisfied: requests-oauthlib>=0.7.0 in /usr/local/lib/python3.6/dist-packages (from google-auth-oauthlib<0.5,>=0.4.1->tensorboard<2.1.0,>=2.0.0->tensorflow-gpu==2.0.0) (1.3.0)\n",
      "Requirement already satisfied: pyasn1>=0.1.3 in /usr/local/lib/python3.6/dist-packages (from rsa<4.1,>=3.1.4->google-auth<2,>=1.6.3->tensorboard<2.1.0,>=2.0.0->tensorflow-gpu==2.0.0) (0.4.8)\n",
      "Requirement already satisfied: oauthlib>=3.0.0 in /usr/local/lib/python3.6/dist-packages (from requests-oauthlib>=0.7.0->google-auth-oauthlib<0.5,>=0.4.1->tensorboard<2.1.0,>=2.0.0->tensorflow-gpu==2.0.0) (3.1.0)\n",
      "Building wheels for collected packages: gast\n",
      "  Building wheel for gast (setup.py) ... \u001b[?25l\u001b[?25hdone\n",
      "  Created wheel for gast: filename=gast-0.2.2-cp36-none-any.whl size=7540 sha256=f5bb9a12bde959714a7814df36411080a057d59570497b0a0bc96dc3b19d340b\n",
      "  Stored in directory: /root/.cache/pip/wheels/5c/2e/7e/a1d4d4fcebe6c381f378ce7743a3ced3699feb89bcfbdadadd\n",
      "Successfully built gast\n",
      "\u001b[31mERROR: tensorflow 2.2.0rc3 has requirement gast==0.3.3, but you'll have gast 0.2.2 which is incompatible.\u001b[0m\n",
      "\u001b[31mERROR: tensorflow 2.2.0rc3 has requirement tensorboard<2.3.0,>=2.2.0, but you'll have tensorboard 2.0.2 which is incompatible.\u001b[0m\n",
      "\u001b[31mERROR: tensorflow 2.2.0rc3 has requirement tensorflow-estimator<2.3.0,>=2.2.0rc0, but you'll have tensorflow-estimator 2.0.1 which is incompatible.\u001b[0m\n",
      "\u001b[31mERROR: tensorflow-probability 0.10.0rc0 has requirement gast>=0.3.2, but you'll have gast 0.2.2 which is incompatible.\u001b[0m\n",
      "Installing collected packages: gast, tensorboard, tensorflow-estimator, tensorflow-gpu\n",
      "  Found existing installation: gast 0.3.3\n",
      "    Uninstalling gast-0.3.3:\n",
      "      Successfully uninstalled gast-0.3.3\n",
      "  Found existing installation: tensorboard 2.2.1\n",
      "    Uninstalling tensorboard-2.2.1:\n",
      "      Successfully uninstalled tensorboard-2.2.1\n",
      "  Found existing installation: tensorflow-estimator 2.2.0\n",
      "    Uninstalling tensorflow-estimator-2.2.0:\n",
      "      Successfully uninstalled tensorflow-estimator-2.2.0\n",
      "Successfully installed gast-0.2.2 tensorboard-2.0.2 tensorflow-estimator-2.0.1 tensorflow-gpu-2.0.0\n"
     ]
    }
   ],
   "source": [
    "!pip install tensorflow-gpu==2.0.0"
   ]
  },
  {
   "cell_type": "code",
   "execution_count": 3,
   "metadata": {
    "colab": {
     "base_uri": "https://localhost:8080/",
     "height": 54
    },
    "colab_type": "code",
    "id": "fikNT7os3kFx",
    "outputId": "5682487e-9555-4b43-f673-4f49855c4e74"
   },
   "outputs": [
    {
     "name": "stdout",
     "output_type": "stream",
     "text": [
      "/content/gdrive/My Drive/Colab Notebooks/projects/backdoor_custom\n",
      "/content/gdrive/My Drive/Colab Notebooks/projects/backdoor_custom\n"
     ]
    }
   ],
   "source": [
    "% cd gdrive/My\\ Drive/Colab\\ Notebooks/projects/backdoor_custom\n",
    "!pwd"
   ]
  },
  {
   "cell_type": "code",
   "execution_count": 1,
   "metadata": {
    "colab": {
     "base_uri": "https://localhost:8080/",
     "height": 35
    },
    "colab_type": "code",
    "id": "LrgkbDR8155h",
    "outputId": "af222288-1c74-4c9a-87dd-c4c72d74c513"
   },
   "outputs": [],
   "source": [
    "import numpy as np\n",
    "import random\n",
    "\n",
    "from tensorflow.keras.models import load_model\n",
    "from tensorflow.keras.preprocessing.image import ImageDataGenerator\n",
    "\n",
    "import h5py\n",
    "import tensorflow as tf\n",
    "\n",
    "from  tensorflow.keras import backend as be\n",
    "from tensorflow.keras.layers import UpSampling2D, Cropping2D\n",
    "\n",
    "from tensorflow.keras.optimizers import Adam\n",
    "from tensorflow.keras.losses import categorical_crossentropy\n",
    "from tensorflow.keras.metrics import categorical_accuracy\n",
    "from tensorflow.keras.layers import Lambda\n",
    "from tensorflow.keras.models import Sequential\n",
    "from tensorflow.keras.layers import Layer\n",
    "from tensorflow.keras.utils import to_categorical\n",
    "\n",
    "import matplotlib.pyplot as plt\n",
    "from matplotlib.pyplot import imshow\n",
    "\n",
    "#from PIL import Image\n",
    "#from IPython.display import display\n",
    "\n",
    "# Importing own libaries\n",
    "# Pattern and Mask definition:\n",
    "from src.Trigger_layer import Trigger\n",
    "\n",
    "%matplotlib inline"
   ]
  },
  {
   "cell_type": "code",
   "execution_count": 2,
   "metadata": {
    "colab": {
     "base_uri": "https://localhost:8080/",
     "height": 35
    },
    "colab_type": "code",
    "id": "bPjWE8jvQo-I",
    "outputId": "e26958b1-7bf7-4eb0-c408-31bf333af9b2"
   },
   "outputs": [
    {
     "name": "stdout",
     "output_type": "stream",
     "text": [
      "2.0.0\n"
     ]
    }
   ],
   "source": [
    "print(tf.__version__)"
   ]
  },
  {
   "cell_type": "code",
   "execution_count": 2,
   "metadata": {
    "colab": {},
    "colab_type": "code",
    "id": "5E3dNxMa3nig"
   },
   "outputs": [],
   "source": [
    "#### Global Variables\n",
    "DATA_DIR = \"./data\"\n",
    "DATA_FILE = \"gtsrb_dataset_int.h5\"\n",
    "MODEL_DIR = \"./library\"\n",
    "MODEL_FILE = \"gtsrb_bottom_right_white_4_target_33.h5\"\n",
    "\n",
    "BATCH_SIZE = 32\n",
    "\n",
    "NUM_CLASSES = 43"
   ]
  },
  {
   "cell_type": "markdown",
   "metadata": {
    "colab_type": "text",
    "id": "F2RB3pPNHMQ6"
   },
   "source": [
    "Define some useful functions"
   ]
  },
  {
   "cell_type": "code",
   "execution_count": 11,
   "metadata": {
    "colab": {},
    "colab_type": "code",
    "id": "dUXMVJJSHKzM"
   },
   "outputs": [],
   "source": [
    "def load_dataset(data_file=('{}/{}'.format(DATA_DIR, DATA_FILE))):\n",
    "\n",
    "  dataset = {}\n",
    "  with h5py.File(data_file, 'r') as hf:\n",
    "    for name in hf:\n",
    "      dataset[name] = np.array(hf.get(name))\n",
    "\n",
    "\n",
    "  X_test = np.array(dataset['X_test'], dtype='float32')\n",
    "  Y_test = np.array(dataset['Y_test'], dtype='float32')\n",
    "\n",
    "  print('X_test shape {}'.format(X_test.shape))\n",
    "  print('Y_test shape {}'.format(Y_test.shape))\n",
    "\n",
    "  return X_test, Y_test\n",
    "\n",
    "def build_data_loader(X, Y):\n",
    "\n",
    "    datagen = ImageDataGenerator()\n",
    "    generator = datagen.flow(\n",
    "        X, Y, batch_size=BATCH_SIZE)\n",
    "\n",
    "    return generator"
   ]
  },
  {
   "cell_type": "code",
   "execution_count": 4,
   "metadata": {
    "colab": {
     "base_uri": "https://localhost:8080/",
     "height": 54
    },
    "colab_type": "code",
    "id": "XMzm-e5tIX0s",
    "outputId": "fa2701cb-3e57-4e77-fbea-6c3265732477"
   },
   "outputs": [
    {
     "name": "stdout",
     "output_type": "stream",
     "text": [
      "X_test shape (12630, 32, 32, 3)\n",
      "Y_test shape (12630, 43)\n"
     ]
    }
   ],
   "source": [
    "X, Y = load_dataset('{}/{}'.format(DATA_DIR, DATA_FILE))"
   ]
  },
  {
   "cell_type": "code",
   "execution_count": 5,
   "metadata": {
    "colab": {
     "base_uri": "https://localhost:8080/",
     "height": 109
    },
    "colab_type": "code",
    "id": "p6-5tr5uKkjG",
    "outputId": "361a0cdf-def4-4c96-84f4-9b7fcf5daa1e"
   },
   "outputs": [
    {
     "name": "stdout",
     "output_type": "stream",
     "text": [
      "Instatiating data_generator\n",
      "What type is data_generator?:  <class 'keras_preprocessing.image.numpy_array_iterator.NumpyArrayIterator'>\n",
      "\n",
      "Loading the model:\n",
      "What type is the model:  <class 'tensorflow.python.keras.engine.sequential.Sequential'>\n"
     ]
    }
   ],
   "source": [
    "print(\"Instatiating data_generator\")\n",
    "data_generator = build_data_loader(X,Y)\n",
    "\n",
    "print(\"What type is data_generator?: \", type(data_generator))\n",
    "\n",
    "print(\"\\nLoading the model:\")\n",
    "model_path = \"{}/{}\".format(MODEL_DIR, MODEL_FILE)\n",
    "model = load_model(model_path)\n",
    "print(\"What type is the model: \", type(model))"
   ]
  },
  {
   "cell_type": "markdown",
   "metadata": {
    "colab_type": "text",
    "id": "qlDOAxrvT3wB"
   },
   "source": [
    "#### Implementation of custom training loop\n"
   ]
  },
  {
   "cell_type": "code",
   "execution_count": 6,
   "metadata": {
    "colab": {
     "base_uri": "https://localhost:8080/",
     "height": 72
    },
    "colab_type": "code",
    "id": "wEmpVsGrst7m",
    "outputId": "77618d52-e9aa-4c4f-d4c6-fb678a47358b"
   },
   "outputs": [
    {
     "name": "stdout",
     "output_type": "stream",
     "text": [
      "<src.Trigger_layer.Trigger object at 0x000001C161919898>\n",
      "(None, 32, 32, 3)\n"
     ]
    },
    {
     "data": {
      "text/plain": [
       "'\\n'"
      ]
     },
     "execution_count": 6,
     "metadata": {},
     "output_type": "execute_result"
    }
   ],
   "source": [
    "# Implementation of custom training loop\n",
    "\n",
    "input_tensor = be.placeholder(model.input_shape)\n",
    "\n",
    "preproc_model = Sequential()\n",
    "preproc_layer = Trigger(input_shape=(32,32,3))\n",
    "\n",
    "print(preproc_layer)\n",
    "\n",
    "preproc_model.add(preproc_layer)\n",
    "\n",
    "model2 = tf.keras.Sequential([\n",
    "  preproc_model,\n",
    "  model\n",
    "])\n",
    "\n",
    "\n",
    "output_tensor = model2(input_tensor)\n",
    "\n",
    "\n",
    "y_true_tensor = be.placeholder(model2.output_shape)\n",
    "\n",
    "\n",
    "loss_acc = categorical_accuracy(output_tensor, y_true_tensor)\n",
    "loss_ce = categorical_crossentropy(output_tensor, y_true_tensor)\n",
    "\n",
    "\n",
    "loss_reg = be.sum(be.abs(model2.layers[1].get_weights()[0])) # here I need to obtain the weight form the preproc_model\n",
    "\n",
    "\n",
    "loss = loss_ce + loss_reg\n",
    "\n",
    "optimizer = Adam()\n",
    "updates = optimizer.get_updates(params = [model2.trainable_weights[0], model2.trainable_weights[1]] , loss = loss)\n",
    "train = be.function([input_tensor, y_true_tensor], [loss, loss_acc], updates = updates)\n",
    "\"\"\"\n",
    "\"\"\""
   ]
  },
  {
   "cell_type": "code",
   "execution_count": 7,
   "metadata": {
    "colab": {
     "base_uri": "https://localhost:8080/",
     "height": 978
    },
    "colab_type": "code",
    "id": "h_HXysiWHz90",
    "outputId": "aed60a32-489d-4ae8-8aed-b4cdc5dbddc1"
   },
   "outputs": [
    {
     "name": "stdout",
     "output_type": "stream",
     "text": [
      "loss:  77.31938\n",
      "-0.08764286\n"
     ]
    }
   ],
   "source": [
    "epochs = 3\n",
    "#epochs = 100\n",
    "y_target = 33\n",
    "loss = [] \n",
    "acc = []\n",
    "for epoch in range(epochs):\n",
    "  Y_target = to_categorical([y_target]*BATCH_SIZE, NUM_CLASSES)\n",
    "  X_batch, _ = data_generator.next()\n",
    "  if X_batch.shape[0] != Y_target.shape[0]:\n",
    "    Y_target = to_categorical([y_target]*X_batch.shape[0], NUM_CLASSES)\n",
    "\n",
    "  losses, acces = train([X_batch, Y_target])\n",
    "  acc.append(np.mean(acces))\n",
    "  loss.append(np.mean(losses))\n",
    "\n",
    "\n",
    "\n",
    "print(\"loss: \", np.mean(loss[0]))\n",
    "#print(model2.trainable_weights[0])\n",
    "print(np.sum(model2.trainable_weights[1].numpy()))"
   ]
  },
  {
   "cell_type": "code",
   "execution_count": 8,
   "metadata": {
    "colab": {
     "base_uri": "https://localhost:8080/",
     "height": 582
    },
    "colab_type": "code",
    "id": "b4gZvw8vs-M-",
    "outputId": "9b8e2d7b-7aba-4f04-b958-7f3ee0d43eb2"
   },
   "outputs": [
    {
     "name": "stdout",
     "output_type": "stream",
     "text": [
      "3\n"
     ]
    },
    {
     "data": {
      "text/plain": [
       "Text(0.5, 1.0, 'Accuracy')"
      ]
     },
     "execution_count": 8,
     "metadata": {},
     "output_type": "execute_result"
    },
    {
     "data": {
      "image/png": "[encoded data removed]",
      "text/plain": [
       "<Figure size 432x288 with 1 Axes>"
      ]
     },
     "metadata": {
      "needs_background": "light"
     },
     "output_type": "display_data"
    },
    {
     "data": {
      "image/png": "[encoded data removed]",
      "text/plain": [
       "<Figure size 432x288 with 1 Axes>"
      ]
     },
     "metadata": {
      "needs_background": "light"
     },
     "output_type": "display_data"
    }
   ],
   "source": [
    "print(len(loss))\n",
    "plt.figure(num=0)\n",
    "plt.plot(range(0,epochs), loss)\n",
    "plt.title (\"Loss\")\n",
    "plt.figure(num=1)\n",
    "plt.plot(range(0,epochs), acc)\n",
    "plt.title(\"Accuracy\")"
   ]
  },
  {
   "cell_type": "code",
   "execution_count": 9,
   "metadata": {
    "colab": {
     "base_uri": "https://localhost:8080/",
     "height": 128
    },
    "colab_type": "code",
    "id": "N69IFLLEyUCZ",
    "outputId": "237b71e1-9aab-4bb0-9b75-91c31f948b0d"
   },
   "outputs": [
    {
     "name": "stdout",
     "output_type": "stream",
     "text": [
      "[36 13  8 28 35 29 29  4  3  8 36 13 17  2 18  1  4  7 10 35  8  4 28  5\n",
      " 10  7 34 10 11  1 24  1]\n",
      "[36 13  8 28 35 29 29  4  3  8 36 13 17  2 18  1  4  7 10 35  8  4 28  5\n",
      " 10  7 34 10 11  1 24  1]\n",
      "[36 13  8 28 35 29 29  4  3  8 36 13 17  2 18  1  4  7 10 35  8  4 28  5\n",
      " 10  7 34 10 11  1 24  1]\n"
     ]
    }
   ],
   "source": [
    "# Now we will compare on a batch of data what are the predictions with and without the trigger \n",
    "X_batch, Y_batch = data_generator.next()\n",
    "class_labs = np.argmax(Y_batch, axis = 1)\n",
    "print(class_labs)\n",
    "pred = model2(X_batch)\n",
    "print(np.argmax(pred, axis = 1))\n",
    "pred2 = model(X_batch)\n",
    "print(np.argmax(pred2, axis = 1))"
   ]
  },
  {
   "cell_type": "code",
   "execution_count": 10,
   "metadata": {
    "colab": {
     "base_uri": "https://localhost:8080/",
     "height": 883
    },
    "colab_type": "code",
    "id": "tzcMyYlm3i3C",
    "outputId": "6ecbed33-6fb3-4abc-ad5e-f7d7def6f00c"
   },
   "outputs": [
    {
     "name": "stderr",
     "output_type": "stream",
     "text": [
      "Clipping input data to the valid range for imshow with RGB data ([0..1] for floats or [0..255] for integers).\n",
      "Clipping input data to the valid range for imshow with RGB data ([0..1] for floats or [0..255] for integers).\n"
     ]
    },
    {
     "name": "stdout",
     "output_type": "stream",
     "text": [
      "(32, 32, 3)\n"
     ]
    },
    {
     "data": {
      "text/plain": [
       "Text(0.5, 1.0, 'triggered')"
      ]
     },
     "execution_count": 10,
     "metadata": {},
     "output_type": "execute_result"
    },
    {
     "data": {
      "image/png": "[encoded data removed]",
      "text/plain": [
       "<Figure size 432x288 with 1 Axes>"
      ]
     },
     "metadata": {
      "needs_background": "light"
     },
     "output_type": "display_data"
    },
    {
     "data": {
      "image/png": "[encoded data removed]",
      "text/plain": [
       "<Figure size 432x288 with 1 Axes>"
      ]
     },
     "metadata": {
      "needs_background": "light"
     },
     "output_type": "display_data"
    },
    {
     "data": {
      "image/png": "[encoded data removed]",
      "text/plain": [
       "<Figure size 432x288 with 1 Axes>"
      ]
     },
     "metadata": {
      "needs_background": "light"
     },
     "output_type": "display_data"
    }
   ],
   "source": [
    "# The second weights are patterns, as we can se in the tf variable description\n",
    "#print(model2.trainable_weights[1])\n",
    "\n",
    "\n",
    "rand_img = X_batch[0]\n",
    "#print(rand_img.shape)\n",
    "scaled_rand_img = rand_img/255\n",
    "plt.figure()\n",
    "plt.imshow(scaled_rand_img)\n",
    "plt.title(\"image\")\n",
    "\n",
    "\n",
    "pattern = model2.trainable_weights[1].numpy()\n",
    "print(pattern.shape)\n",
    "plt.figure()\n",
    "plt.imshow(pattern)\n",
    "plt.title(\"trigger\")\n",
    "\n",
    "mask = model2.trainable_weights[0].numpy()\n",
    "triggered = rand_img*(be.ones_like(mask)- mask) + pattern*mask\n",
    "triggered_scaled = triggered/255\n",
    "plt.figure()\n",
    "plt.imshow(triggered_scaled)\n",
    "plt.title(\"triggered\")"
   ]
  }
 ],
 "metadata": {
  "accelerator": "GPU",
  "colab": {
   "collapsed_sections": [],
   "name": "generate_trigger.ipynb",
   "provenance": []
  },
  "kernelspec": {
   "display_name": "Python 3",
   "language": "python",
   "name": "python3"
  },
  "language_info": {
   "codemirror_mode": {
    "name": "ipython",
    "version": 3
   },
   "file_extension": ".py",
   "mimetype": "text/x-python",
   "name": "python",
   "nbconvert_exporter": "python",
   "pygments_lexer": "ipython3",
   "version": "3.6.10"
  }
 },
 "nbformat": 4,
 "nbformat_minor": 1
}
